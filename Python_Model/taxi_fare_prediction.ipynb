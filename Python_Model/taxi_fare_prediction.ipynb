{
 "cells": [
  {
   "cell_type": "code",
   "execution_count": 1,
   "metadata": {
    "_cell_guid": "b1076dfc-b9ad-4769-8c92-a6c4dae69d19",
    "_uuid": "8f2839f25d086af736a60e9eeb907d3b93b6e0e5"
   },
   "outputs": [],
   "source": [
    "# This Python 3 environment comes with many helpful analytics libraries installed\n",
    "# It is defined by the kaggle/python docker image: https://github.com/kaggle/docker-python\n",
    "# For example, here's several helpful packages to load in \n",
    "\n",
    "import numpy as np # linear algebra\n",
    "import pandas as pd # data processing, CSV file I/O (e.g. pd.read_csv)\n",
    "import sklearn\n",
    "import seaborn as sns\n",
    "import matplotlib.pyplot as plt\n",
    "import pickle\n",
    "import _pickle as cPickle\n",
    "import joblib\n",
    "import gzip\n",
    "# Input data files are available in the \"../input/\" directory.\n",
    "# For example, running this (by clicking run or pressing Shift+Enter) will list the files in the input directory\n",
    "\n",
    "import os"
   ]
  },
  {
   "cell_type": "code",
   "execution_count": 2,
   "metadata": {
    "_cell_guid": "79c7e3d0-c299-4dcb-8224-4455121ee9b0",
    "_uuid": "d629ff2d2480ee46fbb7e2d37f6b5fab8052498a"
   },
   "outputs": [
    {
     "name": "stderr",
     "output_type": "stream",
     "text": [
      "C:\\Users\\ashut\\Anaconda3\\lib\\site-packages\\IPython\\core\\interactiveshell.py:3058: DtypeWarning: Columns (9,12) have mixed types. Specify dtype option on import or set low_memory=False.\n",
      "  interactivity=interactivity, compiler=compiler, result=result)\n"
     ]
    }
   ],
   "source": [
    "train = pd.read_csv(\"train.csv\", nrows = 100000000)\n",
    "test = pd.read_csv(\"train.csv\", nrows = 1000000)"
   ]
  },
  {
   "cell_type": "code",
   "execution_count": 3,
   "metadata": {},
   "outputs": [
    {
     "data": {
      "text/plain": [
       "(100000000, 21)"
      ]
     },
     "execution_count": 3,
     "metadata": {},
     "output_type": "execute_result"
    }
   ],
   "source": [
    "train.shape"
   ]
  },
  {
   "cell_type": "code",
   "execution_count": 4,
   "metadata": {
    "scrolled": true
   },
   "outputs": [
    {
     "data": {
      "text/html": [
       "<div>\n",
       "<style scoped>\n",
       "    .dataframe tbody tr th:only-of-type {\n",
       "        vertical-align: middle;\n",
       "    }\n",
       "\n",
       "    .dataframe tbody tr th {\n",
       "        vertical-align: top;\n",
       "    }\n",
       "\n",
       "    .dataframe thead th {\n",
       "        text-align: right;\n",
       "    }\n",
       "</style>\n",
       "<table border=\"1\" class=\"dataframe\">\n",
       "  <thead>\n",
       "    <tr style=\"text-align: right;\">\n",
       "      <th></th>\n",
       "      <th>Trip ID</th>\n",
       "      <th>Trip Start Timestamp</th>\n",
       "      <th>Trip End Timestamp</th>\n",
       "      <th>Trip Seconds</th>\n",
       "      <th>Trip Miles</th>\n",
       "      <th>Pickup Census Tract</th>\n",
       "      <th>Dropoff Census Tract</th>\n",
       "      <th>Pickup Community Area</th>\n",
       "      <th>Dropoff Community Area</th>\n",
       "      <th>Fare</th>\n",
       "      <th>...</th>\n",
       "      <th>Additional Charges</th>\n",
       "      <th>Trip Total</th>\n",
       "      <th>Shared Trip Authorized</th>\n",
       "      <th>Trips Pooled</th>\n",
       "      <th>Pickup Centroid Latitude</th>\n",
       "      <th>Pickup Centroid Longitude</th>\n",
       "      <th>Pickup Centroid Location</th>\n",
       "      <th>Dropoff Centroid Latitude</th>\n",
       "      <th>Dropoff Centroid Longitude</th>\n",
       "      <th>Dropoff Centroid Location</th>\n",
       "    </tr>\n",
       "  </thead>\n",
       "  <tbody>\n",
       "    <tr>\n",
       "      <td>999995</td>\n",
       "      <td>0b92c3446e6f6d4e6ff5f1229755f466a56114e6</td>\n",
       "      <td>05/22/2019 07:15:00 PM</td>\n",
       "      <td>05/22/2019 07:45:00 PM</td>\n",
       "      <td>2,215</td>\n",
       "      <td>14.125702</td>\n",
       "      <td>NaN</td>\n",
       "      <td>NaN</td>\n",
       "      <td>76.0</td>\n",
       "      <td>29.0</td>\n",
       "      <td>22.5</td>\n",
       "      <td>...</td>\n",
       "      <td>0.00</td>\n",
       "      <td>22.50</td>\n",
       "      <td>True</td>\n",
       "      <td>1</td>\n",
       "      <td>41.980264</td>\n",
       "      <td>-87.913625</td>\n",
       "      <td>POINT (-87.913624596 41.9802643146)</td>\n",
       "      <td>41.860190</td>\n",
       "      <td>-87.717220</td>\n",
       "      <td>POINT (-87.7172201 41.8601900192)</td>\n",
       "    </tr>\n",
       "    <tr>\n",
       "      <td>999996</td>\n",
       "      <td>0b92c4cccb3286dbf8237ddda6c719c091ed4ec3</td>\n",
       "      <td>06/14/2019 07:00:00 PM</td>\n",
       "      <td>06/14/2019 07:15:00 PM</td>\n",
       "      <td>447</td>\n",
       "      <td>1.548885</td>\n",
       "      <td>1.703132e+10</td>\n",
       "      <td>1.703108e+10</td>\n",
       "      <td>32.0</td>\n",
       "      <td>8.0</td>\n",
       "      <td>10.0</td>\n",
       "      <td>...</td>\n",
       "      <td>7.55</td>\n",
       "      <td>17.55</td>\n",
       "      <td>False</td>\n",
       "      <td>1</td>\n",
       "      <td>41.877406</td>\n",
       "      <td>-87.621972</td>\n",
       "      <td>POINT (-87.6219716519 41.8774061234)</td>\n",
       "      <td>41.891972</td>\n",
       "      <td>-87.612945</td>\n",
       "      <td>POINT (-87.6129454143 41.8919715078)</td>\n",
       "    </tr>\n",
       "    <tr>\n",
       "      <td>999997</td>\n",
       "      <td>0b92c59b827a39dc60c4c9d76bbc707012e18ecb</td>\n",
       "      <td>05/23/2019 08:30:00 PM</td>\n",
       "      <td>05/23/2019 09:00:00 PM</td>\n",
       "      <td>1,803</td>\n",
       "      <td>11.799726</td>\n",
       "      <td>NaN</td>\n",
       "      <td>NaN</td>\n",
       "      <td>35.0</td>\n",
       "      <td>22.0</td>\n",
       "      <td>12.5</td>\n",
       "      <td>...</td>\n",
       "      <td>2.55</td>\n",
       "      <td>15.05</td>\n",
       "      <td>True</td>\n",
       "      <td>5</td>\n",
       "      <td>41.835118</td>\n",
       "      <td>-87.618678</td>\n",
       "      <td>POINT (-87.6186777673 41.8351179863)</td>\n",
       "      <td>41.922761</td>\n",
       "      <td>-87.699155</td>\n",
       "      <td>POINT (-87.6991553432 41.9227606205)</td>\n",
       "    </tr>\n",
       "    <tr>\n",
       "      <td>999998</td>\n",
       "      <td>0b92c68fcb00ae78b3a49bf5d5322158ab36169e</td>\n",
       "      <td>04/17/2019 10:30:00 PM</td>\n",
       "      <td>04/17/2019 10:45:00 PM</td>\n",
       "      <td>311</td>\n",
       "      <td>1.363512</td>\n",
       "      <td>1.703106e+10</td>\n",
       "      <td>1.703107e+10</td>\n",
       "      <td>6.0</td>\n",
       "      <td>7.0</td>\n",
       "      <td>5.0</td>\n",
       "      <td>...</td>\n",
       "      <td>2.55</td>\n",
       "      <td>7.55</td>\n",
       "      <td>False</td>\n",
       "      <td>1</td>\n",
       "      <td>41.942692</td>\n",
       "      <td>-87.651771</td>\n",
       "      <td>POINT (-87.6517705068 41.9426918444)</td>\n",
       "      <td>41.921778</td>\n",
       "      <td>-87.651062</td>\n",
       "      <td>POINT (-87.6510618838 41.9217781876)</td>\n",
       "    </tr>\n",
       "    <tr>\n",
       "      <td>999999</td>\n",
       "      <td>0b92c7ace0b53a9a790016efae1e163cfb9546fd</td>\n",
       "      <td>06/13/2019 11:00:00 AM</td>\n",
       "      <td>06/13/2019 11:15:00 AM</td>\n",
       "      <td>1,238</td>\n",
       "      <td>3.239090</td>\n",
       "      <td>1.703184e+10</td>\n",
       "      <td>1.703184e+10</td>\n",
       "      <td>34.0</td>\n",
       "      <td>32.0</td>\n",
       "      <td>2.5</td>\n",
       "      <td>...</td>\n",
       "      <td>2.55</td>\n",
       "      <td>5.05</td>\n",
       "      <td>True</td>\n",
       "      <td>3</td>\n",
       "      <td>41.851018</td>\n",
       "      <td>-87.635092</td>\n",
       "      <td>POINT (-87.6350918563 41.8510178239)</td>\n",
       "      <td>41.880994</td>\n",
       "      <td>-87.632746</td>\n",
       "      <td>POINT (-87.6327464887 41.8809944707)</td>\n",
       "    </tr>\n",
       "  </tbody>\n",
       "</table>\n",
       "<p>5 rows × 21 columns</p>\n",
       "</div>"
      ],
      "text/plain": [
       "                                         Trip ID    Trip Start Timestamp  \\\n",
       "999995  0b92c3446e6f6d4e6ff5f1229755f466a56114e6  05/22/2019 07:15:00 PM   \n",
       "999996  0b92c4cccb3286dbf8237ddda6c719c091ed4ec3  06/14/2019 07:00:00 PM   \n",
       "999997  0b92c59b827a39dc60c4c9d76bbc707012e18ecb  05/23/2019 08:30:00 PM   \n",
       "999998  0b92c68fcb00ae78b3a49bf5d5322158ab36169e  04/17/2019 10:30:00 PM   \n",
       "999999  0b92c7ace0b53a9a790016efae1e163cfb9546fd  06/13/2019 11:00:00 AM   \n",
       "\n",
       "            Trip End Timestamp Trip Seconds  Trip Miles  Pickup Census Tract  \\\n",
       "999995  05/22/2019 07:45:00 PM        2,215   14.125702                  NaN   \n",
       "999996  06/14/2019 07:15:00 PM          447    1.548885         1.703132e+10   \n",
       "999997  05/23/2019 09:00:00 PM        1,803   11.799726                  NaN   \n",
       "999998  04/17/2019 10:45:00 PM          311    1.363512         1.703106e+10   \n",
       "999999  06/13/2019 11:15:00 AM        1,238    3.239090         1.703184e+10   \n",
       "\n",
       "        Dropoff Census Tract  Pickup Community Area  Dropoff Community Area  \\\n",
       "999995                   NaN                   76.0                    29.0   \n",
       "999996          1.703108e+10                   32.0                     8.0   \n",
       "999997                   NaN                   35.0                    22.0   \n",
       "999998          1.703107e+10                    6.0                     7.0   \n",
       "999999          1.703184e+10                   34.0                    32.0   \n",
       "\n",
       "        Fare  ...  Additional Charges  Trip Total  Shared Trip Authorized  \\\n",
       "999995  22.5  ...                0.00       22.50                    True   \n",
       "999996  10.0  ...                7.55       17.55                   False   \n",
       "999997  12.5  ...                2.55       15.05                    True   \n",
       "999998   5.0  ...                2.55        7.55                   False   \n",
       "999999   2.5  ...                2.55        5.05                    True   \n",
       "\n",
       "        Trips Pooled  Pickup Centroid Latitude  Pickup Centroid Longitude  \\\n",
       "999995             1                 41.980264                 -87.913625   \n",
       "999996             1                 41.877406                 -87.621972   \n",
       "999997             5                 41.835118                 -87.618678   \n",
       "999998             1                 41.942692                 -87.651771   \n",
       "999999             3                 41.851018                 -87.635092   \n",
       "\n",
       "                    Pickup Centroid Location Dropoff Centroid Latitude  \\\n",
       "999995   POINT (-87.913624596 41.9802643146)                 41.860190   \n",
       "999996  POINT (-87.6219716519 41.8774061234)                 41.891972   \n",
       "999997  POINT (-87.6186777673 41.8351179863)                 41.922761   \n",
       "999998  POINT (-87.6517705068 41.9426918444)                 41.921778   \n",
       "999999  POINT (-87.6350918563 41.8510178239)                 41.880994   \n",
       "\n",
       "        Dropoff Centroid Longitude             Dropoff Centroid Location  \n",
       "999995                  -87.717220     POINT (-87.7172201 41.8601900192)  \n",
       "999996                  -87.612945  POINT (-87.6129454143 41.8919715078)  \n",
       "999997                  -87.699155  POINT (-87.6991553432 41.9227606205)  \n",
       "999998                  -87.651062  POINT (-87.6510618838 41.9217781876)  \n",
       "999999                  -87.632746  POINT (-87.6327464887 41.8809944707)  \n",
       "\n",
       "[5 rows x 21 columns]"
      ]
     },
     "execution_count": 4,
     "metadata": {},
     "output_type": "execute_result"
    }
   ],
   "source": [
    "test.tail()"
   ]
  },
  {
   "cell_type": "code",
   "execution_count": 5,
   "metadata": {},
   "outputs": [],
   "source": [
    "train.drop(train.columns[[2,3,4,5,6,7,8,9,10,11,13,17,20]], axis=1, inplace=True)\n",
    "train.rename(columns={'Trip ID' : 'key','Trip Total' : 'fare_amount','Pickup Centroid Latitude' : 'pickup_latitude',\n",
    "                         'Pickup Centroid Longitude' : 'pickup_longitude','Dropoff Centroid Latitude' : 'dropoff_latitude',\n",
    "                         'Dropoff Centroid Longitude' : 'dropoff_longitude','Trip Start Timestamp' : 'trip_start_timestamp',\n",
    "                         'Trip Start Timestamp' : 'pickup_datetime','Trip End Timestamp' : 'dropoff_datetime',\n",
    "                         'Trips Pooled' : 'passenger_count'},inplace=True)\n",
    "\n",
    "\n",
    "\n",
    "test.drop(test.columns[[2,3,4,5,6,7,8,9,10,11,13,17,20]], axis=1, inplace=True)\n",
    "test.rename(columns={'Trip ID' : 'key','Trip Total' : 'fare_amount','Pickup Centroid Latitude' : 'pickup_latitude',\n",
    "                         'Pickup Centroid Longitude' : 'pickup_longitude','Dropoff Centroid Latitude' : 'dropoff_latitude',\n",
    "                         'Dropoff Centroid Longitude' : 'dropoff_longitude','Trip Start Timestamp' : 'trip_start_timestamp',\n",
    "                         'Trip Start Timestamp' : 'pickup_datetime','Trip End Timestamp' : 'dropoff_datetime',\n",
    "                         'Trips Pooled' : 'passenger_count'},inplace=True)\n"
   ]
  },
  {
   "cell_type": "code",
   "execution_count": 6,
   "metadata": {
    "_uuid": "148ecc97189af46a200b00cc52fa0a91e21bd044"
   },
   "outputs": [
    {
     "data": {
      "text/plain": [
       "(100000000, 8)"
      ]
     },
     "execution_count": 6,
     "metadata": {},
     "output_type": "execute_result"
    }
   ],
   "source": [
    "train.shape"
   ]
  },
  {
   "cell_type": "code",
   "execution_count": 7,
   "metadata": {
    "_uuid": "6faedd32b02b15a77ff6d356ac51dd747c3127a9"
   },
   "outputs": [
    {
     "data": {
      "text/plain": [
       "(1000000, 8)"
      ]
     },
     "execution_count": 7,
     "metadata": {},
     "output_type": "execute_result"
    }
   ],
   "source": [
    "test.shape"
   ]
  },
  {
   "cell_type": "code",
   "execution_count": 8,
   "metadata": {
    "_kg_hide-output": true,
    "_uuid": "e89ffea1211d7394ec677f5dc46bad3eaf521094"
   },
   "outputs": [
    {
     "data": {
      "text/html": [
       "<div>\n",
       "<style scoped>\n",
       "    .dataframe tbody tr th:only-of-type {\n",
       "        vertical-align: middle;\n",
       "    }\n",
       "\n",
       "    .dataframe tbody tr th {\n",
       "        vertical-align: top;\n",
       "    }\n",
       "\n",
       "    .dataframe thead th {\n",
       "        text-align: right;\n",
       "    }\n",
       "</style>\n",
       "<table border=\"1\" class=\"dataframe\">\n",
       "  <thead>\n",
       "    <tr style=\"text-align: right;\">\n",
       "      <th></th>\n",
       "      <th>key</th>\n",
       "      <th>pickup_datetime</th>\n",
       "      <th>fare_amount</th>\n",
       "      <th>passenger_count</th>\n",
       "      <th>pickup_latitude</th>\n",
       "      <th>pickup_longitude</th>\n",
       "      <th>dropoff_latitude</th>\n",
       "      <th>dropoff_longitude</th>\n",
       "    </tr>\n",
       "  </thead>\n",
       "  <tbody>\n",
       "    <tr>\n",
       "      <td>0</td>\n",
       "      <td>02834e788438c1a13d16cb28cdf87c99190ecdc0</td>\n",
       "      <td>06/24/2019 06:15:00 AM</td>\n",
       "      <td>15.05</td>\n",
       "      <td>1</td>\n",
       "      <td>41.929273</td>\n",
       "      <td>-87.673807</td>\n",
       "      <td>41.895033</td>\n",
       "      <td>-87.619711</td>\n",
       "    </tr>\n",
       "    <tr>\n",
       "      <td>1</td>\n",
       "      <td>02834f5efdea47320ada480120dc6e072067d4c2</td>\n",
       "      <td>04/15/2019 07:15:00 AM</td>\n",
       "      <td>7.55</td>\n",
       "      <td>1</td>\n",
       "      <td>41.879255</td>\n",
       "      <td>-87.642649</td>\n",
       "      <td>41.892042</td>\n",
       "      <td>-87.631864</td>\n",
       "    </tr>\n",
       "    <tr>\n",
       "      <td>2</td>\n",
       "      <td>0283504d3c2b344de5313888add975fb7e5925a2</td>\n",
       "      <td>04/20/2019 01:15:00 AM</td>\n",
       "      <td>45.8</td>\n",
       "      <td>1</td>\n",
       "      <td>41.892042</td>\n",
       "      <td>-87.631864</td>\n",
       "      <td>NaN</td>\n",
       "      <td>NaN</td>\n",
       "    </tr>\n",
       "    <tr>\n",
       "      <td>3</td>\n",
       "      <td>028351cc4ab81ee329f17f87ba9929dc05cc31f7</td>\n",
       "      <td>04/01/2019 05:30:00 PM</td>\n",
       "      <td>12.55</td>\n",
       "      <td>1</td>\n",
       "      <td>41.880994</td>\n",
       "      <td>-87.632746</td>\n",
       "      <td>41.891972</td>\n",
       "      <td>-87.612945</td>\n",
       "    </tr>\n",
       "    <tr>\n",
       "      <td>4</td>\n",
       "      <td>02835257f57cf1340a80f22d9cce2df3d99dd07d</td>\n",
       "      <td>06/27/2019 08:00:00 PM</td>\n",
       "      <td>7.55</td>\n",
       "      <td>1</td>\n",
       "      <td>41.936310</td>\n",
       "      <td>-87.651563</td>\n",
       "      <td>41.938232</td>\n",
       "      <td>-87.646782</td>\n",
       "    </tr>\n",
       "    <tr>\n",
       "      <td>5</td>\n",
       "      <td>028352cc786a58f5d2e87712e72bb1ef42e15371</td>\n",
       "      <td>04/01/2019 04:00:00 AM</td>\n",
       "      <td>10.05</td>\n",
       "      <td>1</td>\n",
       "      <td>41.949140</td>\n",
       "      <td>-87.656804</td>\n",
       "      <td>41.942873</td>\n",
       "      <td>-87.701330</td>\n",
       "    </tr>\n",
       "    <tr>\n",
       "      <td>6</td>\n",
       "      <td>028353342a2208443d9c3bc50f0cee10b84bb93a</td>\n",
       "      <td>06/19/2019 07:30:00 AM</td>\n",
       "      <td>49.55</td>\n",
       "      <td>1</td>\n",
       "      <td>41.979071</td>\n",
       "      <td>-87.903040</td>\n",
       "      <td>41.884987</td>\n",
       "      <td>-87.620993</td>\n",
       "    </tr>\n",
       "    <tr>\n",
       "      <td>7</td>\n",
       "      <td>028353b91185c3b8435e484c2e285a0bca57bff1</td>\n",
       "      <td>06/25/2019 05:45:00 PM</td>\n",
       "      <td>13.05</td>\n",
       "      <td>1</td>\n",
       "      <td>41.963374</td>\n",
       "      <td>-87.670185</td>\n",
       "      <td>41.941628</td>\n",
       "      <td>-87.661443</td>\n",
       "    </tr>\n",
       "    <tr>\n",
       "      <td>8</td>\n",
       "      <td>028353cbbf604ee971bdf5296ff97899b36891ad</td>\n",
       "      <td>04/05/2019 06:00:00 PM</td>\n",
       "      <td>20.05</td>\n",
       "      <td>1</td>\n",
       "      <td>41.879067</td>\n",
       "      <td>-87.657005</td>\n",
       "      <td>41.963633</td>\n",
       "      <td>-87.652365</td>\n",
       "    </tr>\n",
       "    <tr>\n",
       "      <td>9</td>\n",
       "      <td>028354306c9c537e31b85934476a3c28fc4e8005</td>\n",
       "      <td>05/27/2019 10:00:00 PM</td>\n",
       "      <td>17.55</td>\n",
       "      <td>1</td>\n",
       "      <td>41.839087</td>\n",
       "      <td>-87.714004</td>\n",
       "      <td>NaN</td>\n",
       "      <td>NaN</td>\n",
       "    </tr>\n",
       "  </tbody>\n",
       "</table>\n",
       "</div>"
      ],
      "text/plain": [
       "                                        key         pickup_datetime  \\\n",
       "0  02834e788438c1a13d16cb28cdf87c99190ecdc0  06/24/2019 06:15:00 AM   \n",
       "1  02834f5efdea47320ada480120dc6e072067d4c2  04/15/2019 07:15:00 AM   \n",
       "2  0283504d3c2b344de5313888add975fb7e5925a2  04/20/2019 01:15:00 AM   \n",
       "3  028351cc4ab81ee329f17f87ba9929dc05cc31f7  04/01/2019 05:30:00 PM   \n",
       "4  02835257f57cf1340a80f22d9cce2df3d99dd07d  06/27/2019 08:00:00 PM   \n",
       "5  028352cc786a58f5d2e87712e72bb1ef42e15371  04/01/2019 04:00:00 AM   \n",
       "6  028353342a2208443d9c3bc50f0cee10b84bb93a  06/19/2019 07:30:00 AM   \n",
       "7  028353b91185c3b8435e484c2e285a0bca57bff1  06/25/2019 05:45:00 PM   \n",
       "8  028353cbbf604ee971bdf5296ff97899b36891ad  04/05/2019 06:00:00 PM   \n",
       "9  028354306c9c537e31b85934476a3c28fc4e8005  05/27/2019 10:00:00 PM   \n",
       "\n",
       "  fare_amount  passenger_count  pickup_latitude  pickup_longitude  \\\n",
       "0       15.05                1        41.929273        -87.673807   \n",
       "1        7.55                1        41.879255        -87.642649   \n",
       "2        45.8                1        41.892042        -87.631864   \n",
       "3       12.55                1        41.880994        -87.632746   \n",
       "4        7.55                1        41.936310        -87.651563   \n",
       "5       10.05                1        41.949140        -87.656804   \n",
       "6       49.55                1        41.979071        -87.903040   \n",
       "7       13.05                1        41.963374        -87.670185   \n",
       "8       20.05                1        41.879067        -87.657005   \n",
       "9       17.55                1        41.839087        -87.714004   \n",
       "\n",
       "   dropoff_latitude  dropoff_longitude  \n",
       "0         41.895033         -87.619711  \n",
       "1         41.892042         -87.631864  \n",
       "2               NaN                NaN  \n",
       "3         41.891972         -87.612945  \n",
       "4         41.938232         -87.646782  \n",
       "5         41.942873         -87.701330  \n",
       "6         41.884987         -87.620993  \n",
       "7         41.941628         -87.661443  \n",
       "8         41.963633         -87.652365  \n",
       "9               NaN                NaN  "
      ]
     },
     "execution_count": 8,
     "metadata": {},
     "output_type": "execute_result"
    }
   ],
   "source": [
    "train.head(10)"
   ]
  },
  {
   "cell_type": "code",
   "execution_count": 9,
   "metadata": {
    "_kg_hide-output": true,
    "_uuid": "a98e66b89be9c27fa284966eb71ba2ea09b4c5e1",
    "scrolled": false
   },
   "outputs": [
    {
     "data": {
      "text/html": [
       "<div>\n",
       "<style scoped>\n",
       "    .dataframe tbody tr th:only-of-type {\n",
       "        vertical-align: middle;\n",
       "    }\n",
       "\n",
       "    .dataframe tbody tr th {\n",
       "        vertical-align: top;\n",
       "    }\n",
       "\n",
       "    .dataframe thead th {\n",
       "        text-align: right;\n",
       "    }\n",
       "</style>\n",
       "<table border=\"1\" class=\"dataframe\">\n",
       "  <thead>\n",
       "    <tr style=\"text-align: right;\">\n",
       "      <th></th>\n",
       "      <th>passenger_count</th>\n",
       "      <th>pickup_latitude</th>\n",
       "      <th>pickup_longitude</th>\n",
       "      <th>dropoff_latitude</th>\n",
       "      <th>dropoff_longitude</th>\n",
       "    </tr>\n",
       "  </thead>\n",
       "  <tbody>\n",
       "    <tr>\n",
       "      <td>count</td>\n",
       "      <td>1.000000e+08</td>\n",
       "      <td>9.394668e+07</td>\n",
       "      <td>9.394668e+07</td>\n",
       "      <td>9.319769e+07</td>\n",
       "      <td>9.319769e+07</td>\n",
       "    </tr>\n",
       "    <tr>\n",
       "      <td>mean</td>\n",
       "      <td>1.272790e+00</td>\n",
       "      <td>4.189270e+01</td>\n",
       "      <td>-8.766666e+01</td>\n",
       "      <td>4.189335e+01</td>\n",
       "      <td>-8.766849e+01</td>\n",
       "    </tr>\n",
       "    <tr>\n",
       "      <td>std</td>\n",
       "      <td>7.441421e-01</td>\n",
       "      <td>6.102187e-02</td>\n",
       "      <td>6.212131e-02</td>\n",
       "      <td>6.109966e-02</td>\n",
       "      <td>6.579549e-02</td>\n",
       "    </tr>\n",
       "    <tr>\n",
       "      <td>min</td>\n",
       "      <td>1.000000e+00</td>\n",
       "      <td>4.165022e+01</td>\n",
       "      <td>-8.791362e+01</td>\n",
       "      <td>4.165022e+01</td>\n",
       "      <td>-8.791362e+01</td>\n",
       "    </tr>\n",
       "    <tr>\n",
       "      <td>25%</td>\n",
       "      <td>1.000000e+00</td>\n",
       "      <td>4.187741e+01</td>\n",
       "      <td>-8.768016e+01</td>\n",
       "      <td>4.187859e+01</td>\n",
       "      <td>-8.768300e+01</td>\n",
       "    </tr>\n",
       "    <tr>\n",
       "      <td>50%</td>\n",
       "      <td>1.000000e+00</td>\n",
       "      <td>4.189322e+01</td>\n",
       "      <td>-8.765177e+01</td>\n",
       "      <td>4.189322e+01</td>\n",
       "      <td>-8.765169e+01</td>\n",
       "    </tr>\n",
       "    <tr>\n",
       "      <td>75%</td>\n",
       "      <td>1.000000e+00</td>\n",
       "      <td>4.192908e+01</td>\n",
       "      <td>-8.763172e+01</td>\n",
       "      <td>4.192933e+01</td>\n",
       "      <td>-8.763172e+01</td>\n",
       "    </tr>\n",
       "    <tr>\n",
       "      <td>max</td>\n",
       "      <td>2.400000e+01</td>\n",
       "      <td>4.202122e+01</td>\n",
       "      <td>-8.752995e+01</td>\n",
       "      <td>4.202122e+01</td>\n",
       "      <td>-8.752995e+01</td>\n",
       "    </tr>\n",
       "  </tbody>\n",
       "</table>\n",
       "</div>"
      ],
      "text/plain": [
       "       passenger_count  pickup_latitude  pickup_longitude  dropoff_latitude  \\\n",
       "count     1.000000e+08     9.394668e+07      9.394668e+07      9.319769e+07   \n",
       "mean      1.272790e+00     4.189270e+01     -8.766666e+01      4.189335e+01   \n",
       "std       7.441421e-01     6.102187e-02      6.212131e-02      6.109966e-02   \n",
       "min       1.000000e+00     4.165022e+01     -8.791362e+01      4.165022e+01   \n",
       "25%       1.000000e+00     4.187741e+01     -8.768016e+01      4.187859e+01   \n",
       "50%       1.000000e+00     4.189322e+01     -8.765177e+01      4.189322e+01   \n",
       "75%       1.000000e+00     4.192908e+01     -8.763172e+01      4.192933e+01   \n",
       "max       2.400000e+01     4.202122e+01     -8.752995e+01      4.202122e+01   \n",
       "\n",
       "       dropoff_longitude  \n",
       "count       9.319769e+07  \n",
       "mean       -8.766849e+01  \n",
       "std         6.579549e-02  \n",
       "min        -8.791362e+01  \n",
       "25%        -8.768300e+01  \n",
       "50%        -8.765169e+01  \n",
       "75%        -8.763172e+01  \n",
       "max        -8.752995e+01  "
      ]
     },
     "execution_count": 9,
     "metadata": {},
     "output_type": "execute_result"
    }
   ],
   "source": [
    "train.describe()"
   ]
  },
  {
   "cell_type": "code",
   "execution_count": 10,
   "metadata": {
    "_kg_hide-output": true,
    "_uuid": "0b18baf8d30016a2d3012c33a7b28068b045ad08"
   },
   "outputs": [
    {
     "data": {
      "text/plain": [
       "dropoff_longitude    6802313\n",
       "dropoff_latitude     6802313\n",
       "pickup_longitude     6053317\n",
       "pickup_latitude      6053317\n",
       "fare_amount              130\n",
       "passenger_count            0\n",
       "pickup_datetime            0\n",
       "key                        0\n",
       "dtype: int64"
      ]
     },
     "execution_count": 10,
     "metadata": {},
     "output_type": "execute_result"
    }
   ],
   "source": [
    "#check for missing values in train data\n",
    "train.isnull().sum().sort_values(ascending=False)"
   ]
  },
  {
   "cell_type": "code",
   "execution_count": 11,
   "metadata": {
    "_kg_hide-output": true,
    "_uuid": "c8e57c375b958bcf49f577589b0d12bdab83e182"
   },
   "outputs": [
    {
     "data": {
      "text/plain": [
       "dropoff_longitude    68256\n",
       "dropoff_latitude     68256\n",
       "pickup_longitude     61031\n",
       "pickup_latitude      61031\n",
       "passenger_count          0\n",
       "fare_amount              0\n",
       "pickup_datetime          0\n",
       "key                      0\n",
       "dtype: int64"
      ]
     },
     "execution_count": 11,
     "metadata": {},
     "output_type": "execute_result"
    }
   ],
   "source": [
    "#check for missing values in test data\n",
    "test.isnull().sum().sort_values(ascending=False)"
   ]
  },
  {
   "cell_type": "code",
   "execution_count": 12,
   "metadata": {
    "_uuid": "5c861be6ec1b95017a0b95d88d4452717e8a1f5e"
   },
   "outputs": [],
   "source": [
    "#drop the missing values\n",
    "train = train.drop(train[train.isnull().any(1)].index, axis = 0)"
   ]
  },
  {
   "cell_type": "code",
   "execution_count": 13,
   "metadata": {
    "_uuid": "ae6a2b631826cbab3e7925d236f884607ae26fd6"
   },
   "outputs": [
    {
     "data": {
      "text/plain": [
       "(87163394, 8)"
      ]
     },
     "execution_count": 13,
     "metadata": {},
     "output_type": "execute_result"
    }
   ],
   "source": [
    "train.shape"
   ]
  },
  {
   "cell_type": "code",
   "execution_count": 14,
   "metadata": {
    "_kg_hide-output": true,
    "_uuid": "6719a8e5d3dfb155d189e86f481e1ec36afadec7"
   },
   "outputs": [
    {
     "data": {
      "text/plain": [
       "count     87163394.00\n",
       "unique       14934.00\n",
       "top              7.55\n",
       "freq      13450031.00\n",
       "Name: fare_amount, dtype: float64"
      ]
     },
     "execution_count": 14,
     "metadata": {},
     "output_type": "execute_result"
    }
   ],
   "source": [
    "#check the target column\n",
    "train['fare_amount'].describe()"
   ]
  },
  {
   "cell_type": "markdown",
   "metadata": {
    "_uuid": "fcdbd7ba9e52065fe228a33e3b6df497788c04af"
   },
   "source": [
    "Fare amount has a negative value, which doesn't make sense. Remove these fields"
   ]
  },
  {
   "cell_type": "code",
   "execution_count": 15,
   "metadata": {
    "_uuid": "f4c6018d2bef8ad5c8c4ce80811f601da66083e2"
   },
   "outputs": [
    {
     "data": {
      "text/plain": [
       "key                   object\n",
       "pickup_datetime       object\n",
       "fare_amount          float64\n",
       "passenger_count        int64\n",
       "pickup_latitude      float64\n",
       "pickup_longitude     float64\n",
       "dropoff_latitude     float64\n",
       "dropoff_longitude    float64\n",
       "dtype: object"
      ]
     },
     "execution_count": 15,
     "metadata": {},
     "output_type": "execute_result"
    }
   ],
   "source": [
    "#38 fields have negative fare_amount values.\n",
    "#from collections import Counter\n",
    "#Counter(train['fare_amount']<0)\n",
    "train['fare_amount'] = train['fare_amount'].astype(float)\n",
    "train.dtypes"
   ]
  },
  {
   "cell_type": "code",
   "execution_count": 16,
   "metadata": {
    "_uuid": "bd531f39d88ebdf5aaee0068e01a70d752999096"
   },
   "outputs": [
    {
     "data": {
      "text/plain": [
       "(87163394, 8)"
      ]
     },
     "execution_count": 16,
     "metadata": {},
     "output_type": "execute_result"
    }
   ],
   "source": [
    "train = train.drop(train[train['fare_amount']<0].index, axis=0)\n",
    "train.shape"
   ]
  },
  {
   "cell_type": "code",
   "execution_count": 17,
   "metadata": {
    "_kg_hide-output": true,
    "_uuid": "397b9b61bd27e5d05f937de092140df0e765b9b5"
   },
   "outputs": [
    {
     "data": {
      "text/plain": [
       "count    8.716339e+07\n",
       "mean     1.325930e+01\n",
       "std      9.021291e+00\n",
       "min      0.000000e+00\n",
       "25%      7.550000e+00\n",
       "50%      1.005000e+01\n",
       "75%      1.505000e+01\n",
       "max      8.921000e+02\n",
       "Name: fare_amount, dtype: float64"
      ]
     },
     "execution_count": 17,
     "metadata": {},
     "output_type": "execute_result"
    }
   ],
   "source": [
    "#no more negative values in the fare field\n",
    "train['fare_amount'].describe()"
   ]
  },
  {
   "cell_type": "code",
   "execution_count": 18,
   "metadata": {
    "_kg_hide-output": true,
    "_uuid": "4cf0dafef4aaf80c13721a3404ad3dbc759cd65e"
   },
   "outputs": [
    {
     "data": {
      "text/plain": [
       "19708193    892.10\n",
       "143994      822.10\n",
       "22312671    786.10\n",
       "37356090    752.10\n",
       "82230220    721.55\n",
       "             ...  \n",
       "11033865      0.00\n",
       "27144851      0.00\n",
       "17801047      0.00\n",
       "21518829      0.00\n",
       "21487097      0.00\n",
       "Name: fare_amount, Length: 87163394, dtype: float64"
      ]
     },
     "execution_count": 18,
     "metadata": {},
     "output_type": "execute_result"
    }
   ],
   "source": [
    "#highest fare is $500\n",
    "train['fare_amount'].sort_values(ascending=False)"
   ]
  },
  {
   "cell_type": "markdown",
   "metadata": {
    "_uuid": "94bba1478130e361a935fc2eae552f3fdb5cfae9"
   },
   "source": [
    "Next check the passenger_count variable"
   ]
  },
  {
   "cell_type": "code",
   "execution_count": 19,
   "metadata": {
    "_kg_hide-output": true,
    "_uuid": "35df6fbd1aab70134962dd4bb58edda7e29fca61"
   },
   "outputs": [
    {
     "data": {
      "text/plain": [
       "count    8.716339e+07\n",
       "mean     1.281803e+00\n",
       "std      7.587192e-01\n",
       "min      1.000000e+00\n",
       "25%      1.000000e+00\n",
       "50%      1.000000e+00\n",
       "75%      1.000000e+00\n",
       "max      2.400000e+01\n",
       "Name: passenger_count, dtype: float64"
      ]
     },
     "execution_count": 19,
     "metadata": {},
     "output_type": "execute_result"
    }
   ],
   "source": [
    "train['passenger_count'].describe()"
   ]
  },
  {
   "cell_type": "code",
   "execution_count": 20,
   "metadata": {
    "_uuid": "12f7f4f99a082c3d08bf100d9dad8e7395d5e420"
   },
   "outputs": [
    {
     "data": {
      "text/html": [
       "<div>\n",
       "<style scoped>\n",
       "    .dataframe tbody tr th:only-of-type {\n",
       "        vertical-align: middle;\n",
       "    }\n",
       "\n",
       "    .dataframe tbody tr th {\n",
       "        vertical-align: top;\n",
       "    }\n",
       "\n",
       "    .dataframe thead th {\n",
       "        text-align: right;\n",
       "    }\n",
       "</style>\n",
       "<table border=\"1\" class=\"dataframe\">\n",
       "  <thead>\n",
       "    <tr style=\"text-align: right;\">\n",
       "      <th></th>\n",
       "      <th>key</th>\n",
       "      <th>pickup_datetime</th>\n",
       "      <th>fare_amount</th>\n",
       "      <th>passenger_count</th>\n",
       "      <th>pickup_latitude</th>\n",
       "      <th>pickup_longitude</th>\n",
       "      <th>dropoff_latitude</th>\n",
       "      <th>dropoff_longitude</th>\n",
       "    </tr>\n",
       "  </thead>\n",
       "  <tbody>\n",
       "    <tr>\n",
       "      <td>89</td>\n",
       "      <td>028380efe2227f2ffc4596c95624d619c11ed4bc</td>\n",
       "      <td>04/18/2019 06:15:00 PM</td>\n",
       "      <td>2.55</td>\n",
       "      <td>7</td>\n",
       "      <td>41.810879</td>\n",
       "      <td>-87.726363</td>\n",
       "      <td>41.810879</td>\n",
       "      <td>-87.726363</td>\n",
       "    </tr>\n",
       "    <tr>\n",
       "      <td>316</td>\n",
       "      <td>0284025c1d6f36ba641a75c0bfc061c3e9b64a29</td>\n",
       "      <td>06/05/2019 04:15:00 PM</td>\n",
       "      <td>5.05</td>\n",
       "      <td>7</td>\n",
       "      <td>41.895258</td>\n",
       "      <td>-87.733518</td>\n",
       "      <td>41.868132</td>\n",
       "      <td>-87.714215</td>\n",
       "    </tr>\n",
       "    <tr>\n",
       "      <td>1692</td>\n",
       "      <td>028725dbd0ce60356946f072a3f53ac74df2a25e</td>\n",
       "      <td>06/16/2019 02:15:00 PM</td>\n",
       "      <td>9.62</td>\n",
       "      <td>7</td>\n",
       "      <td>41.789788</td>\n",
       "      <td>-87.708417</td>\n",
       "      <td>41.814441</td>\n",
       "      <td>-87.730733</td>\n",
       "    </tr>\n",
       "    <tr>\n",
       "      <td>2922</td>\n",
       "      <td>0289f07f083ee04500a481fb66b8d48de599b6f8</td>\n",
       "      <td>04/30/2019 03:45:00 PM</td>\n",
       "      <td>10.05</td>\n",
       "      <td>7</td>\n",
       "      <td>41.878866</td>\n",
       "      <td>-87.625192</td>\n",
       "      <td>41.835118</td>\n",
       "      <td>-87.618678</td>\n",
       "    </tr>\n",
       "    <tr>\n",
       "      <td>3326</td>\n",
       "      <td>028ae9f3ce752eedd5232561b097a03e7706d474</td>\n",
       "      <td>05/21/2019 09:45:00 PM</td>\n",
       "      <td>7.55</td>\n",
       "      <td>7</td>\n",
       "      <td>41.909496</td>\n",
       "      <td>-87.630964</td>\n",
       "      <td>41.790506</td>\n",
       "      <td>-87.583144</td>\n",
       "    </tr>\n",
       "    <tr>\n",
       "      <td>...</td>\n",
       "      <td>...</td>\n",
       "      <td>...</td>\n",
       "      <td>...</td>\n",
       "      <td>...</td>\n",
       "      <td>...</td>\n",
       "      <td>...</td>\n",
       "      <td>...</td>\n",
       "      <td>...</td>\n",
       "    </tr>\n",
       "    <tr>\n",
       "      <td>99997062</td>\n",
       "      <td>21d0ff13954e8353348a10ecd9478f4a4c734ffa</td>\n",
       "      <td>02/01/2019 11:45:00 PM</td>\n",
       "      <td>7.55</td>\n",
       "      <td>7</td>\n",
       "      <td>41.836510</td>\n",
       "      <td>-87.653159</td>\n",
       "      <td>41.790506</td>\n",
       "      <td>-87.583144</td>\n",
       "    </tr>\n",
       "    <tr>\n",
       "      <td>99998078</td>\n",
       "      <td>21d30783cce246725cb3f776226ce5ba325f3401</td>\n",
       "      <td>03/20/2019 09:30:00 AM</td>\n",
       "      <td>22.55</td>\n",
       "      <td>7</td>\n",
       "      <td>41.769778</td>\n",
       "      <td>-87.726930</td>\n",
       "      <td>41.878866</td>\n",
       "      <td>-87.625192</td>\n",
       "    </tr>\n",
       "    <tr>\n",
       "      <td>99998228</td>\n",
       "      <td>21d34ff1af8c3064f50b9a3e0feb4810b961821f</td>\n",
       "      <td>03/11/2019 02:15:00 PM</td>\n",
       "      <td>10.05</td>\n",
       "      <td>9</td>\n",
       "      <td>41.868132</td>\n",
       "      <td>-87.714215</td>\n",
       "      <td>41.890922</td>\n",
       "      <td>-87.618868</td>\n",
       "    </tr>\n",
       "    <tr>\n",
       "      <td>99999075</td>\n",
       "      <td>21d50d6f6a78df8d3bb5d1a381ac4db5be8d8d5a</td>\n",
       "      <td>03/10/2019 12:15:00 AM</td>\n",
       "      <td>7.55</td>\n",
       "      <td>8</td>\n",
       "      <td>41.744205</td>\n",
       "      <td>-87.656306</td>\n",
       "      <td>41.740206</td>\n",
       "      <td>-87.615970</td>\n",
       "    </tr>\n",
       "    <tr>\n",
       "      <td>99999432</td>\n",
       "      <td>21d5bb16701a360b040f72c110d54a120a6a09ac</td>\n",
       "      <td>01/29/2019 10:45:00 AM</td>\n",
       "      <td>5.05</td>\n",
       "      <td>7</td>\n",
       "      <td>41.892658</td>\n",
       "      <td>-87.652534</td>\n",
       "      <td>41.834481</td>\n",
       "      <td>-87.632960</td>\n",
       "    </tr>\n",
       "  </tbody>\n",
       "</table>\n",
       "<p>133852 rows × 8 columns</p>\n",
       "</div>"
      ],
      "text/plain": [
       "                                               key         pickup_datetime  \\\n",
       "89        028380efe2227f2ffc4596c95624d619c11ed4bc  04/18/2019 06:15:00 PM   \n",
       "316       0284025c1d6f36ba641a75c0bfc061c3e9b64a29  06/05/2019 04:15:00 PM   \n",
       "1692      028725dbd0ce60356946f072a3f53ac74df2a25e  06/16/2019 02:15:00 PM   \n",
       "2922      0289f07f083ee04500a481fb66b8d48de599b6f8  04/30/2019 03:45:00 PM   \n",
       "3326      028ae9f3ce752eedd5232561b097a03e7706d474  05/21/2019 09:45:00 PM   \n",
       "...                                            ...                     ...   \n",
       "99997062  21d0ff13954e8353348a10ecd9478f4a4c734ffa  02/01/2019 11:45:00 PM   \n",
       "99998078  21d30783cce246725cb3f776226ce5ba325f3401  03/20/2019 09:30:00 AM   \n",
       "99998228  21d34ff1af8c3064f50b9a3e0feb4810b961821f  03/11/2019 02:15:00 PM   \n",
       "99999075  21d50d6f6a78df8d3bb5d1a381ac4db5be8d8d5a  03/10/2019 12:15:00 AM   \n",
       "99999432  21d5bb16701a360b040f72c110d54a120a6a09ac  01/29/2019 10:45:00 AM   \n",
       "\n",
       "          fare_amount  passenger_count  pickup_latitude  pickup_longitude  \\\n",
       "89               2.55                7        41.810879        -87.726363   \n",
       "316              5.05                7        41.895258        -87.733518   \n",
       "1692             9.62                7        41.789788        -87.708417   \n",
       "2922            10.05                7        41.878866        -87.625192   \n",
       "3326             7.55                7        41.909496        -87.630964   \n",
       "...               ...              ...              ...               ...   \n",
       "99997062         7.55                7        41.836510        -87.653159   \n",
       "99998078        22.55                7        41.769778        -87.726930   \n",
       "99998228        10.05                9        41.868132        -87.714215   \n",
       "99999075         7.55                8        41.744205        -87.656306   \n",
       "99999432         5.05                7        41.892658        -87.652534   \n",
       "\n",
       "          dropoff_latitude  dropoff_longitude  \n",
       "89               41.810879         -87.726363  \n",
       "316              41.868132         -87.714215  \n",
       "1692             41.814441         -87.730733  \n",
       "2922             41.835118         -87.618678  \n",
       "3326             41.790506         -87.583144  \n",
       "...                    ...                ...  \n",
       "99997062         41.790506         -87.583144  \n",
       "99998078         41.878866         -87.625192  \n",
       "99998228         41.890922         -87.618868  \n",
       "99999075         41.740206         -87.615970  \n",
       "99999432         41.834481         -87.632960  \n",
       "\n",
       "[133852 rows x 8 columns]"
      ]
     },
     "execution_count": 20,
     "metadata": {},
     "output_type": "execute_result"
    }
   ],
   "source": [
    "#max is 208 passengers. Assuming that a bus is a 'taxi' in NYC, I don't think a bus can carry 208 passengers! Let' see the distribution of this field\n",
    "#LOL! One field. this is DEFINITELY an outlier. Lets drop it \n",
    "train[train['passenger_count']>6]"
   ]
  },
  {
   "cell_type": "code",
   "execution_count": 21,
   "metadata": {
    "_uuid": "c4fba2989b302173b500f888898adbc2cc5d54de"
   },
   "outputs": [],
   "source": [
    "train = train.drop(train[train['passenger_count']>6].index, axis = 0)"
   ]
  },
  {
   "cell_type": "code",
   "execution_count": 22,
   "metadata": {
    "_kg_hide-output": true,
    "_uuid": "39bc70eb463712ecf9313e98d858bd979c7b2074"
   },
   "outputs": [
    {
     "data": {
      "text/plain": [
       "count    8.702954e+07\n",
       "mean     1.271906e+00\n",
       "std      7.146649e-01\n",
       "min      1.000000e+00\n",
       "25%      1.000000e+00\n",
       "50%      1.000000e+00\n",
       "75%      1.000000e+00\n",
       "max      6.000000e+00\n",
       "Name: passenger_count, dtype: float64"
      ]
     },
     "execution_count": 22,
     "metadata": {},
     "output_type": "execute_result"
    }
   ],
   "source": [
    "#much neater now! Max number of passengers are 6. Which makes sense is the cab is an SUV :)\n",
    "train['passenger_count'].describe()"
   ]
  },
  {
   "cell_type": "code",
   "execution_count": null,
   "metadata": {
    "_uuid": "afc832f0969a8fc010ce3dd46eb1966e6945d1ca"
   },
   "outputs": [],
   "source": [
    "train['key'] = pd.to_datetime(train['pickup_datetime'])\n",
    "train['pickup_datetime']  = pd.to_datetime(train['pickup_datetime'])\n",
    "train['pickup_datetime']"
   ]
  },
  {
   "cell_type": "code",
   "execution_count": null,
   "metadata": {
    "_uuid": "067fb6e3295a736a3698dec6d20786badf1ac651"
   },
   "outputs": [],
   "source": [
    "#Convert for test data\n",
    "test['key'] = pd.to_datetime(test['pickup_datetime'])\n",
    "test['pickup_datetime']  = pd.to_datetime(test['pickup_datetime'])\n",
    "test['pickup_datetime']"
   ]
  },
  {
   "cell_type": "code",
   "execution_count": null,
   "metadata": {
    "_kg_hide-output": true,
    "_uuid": "31e56c5a630e56e4677843e4af5993f9fbb2194d"
   },
   "outputs": [],
   "source": [
    "#check the dtypes after conversion\n",
    "train.dtypes"
   ]
  },
  {
   "cell_type": "code",
   "execution_count": null,
   "metadata": {
    "_uuid": "34c864b4dc55c552090379ddc1bec95e276a9c58"
   },
   "outputs": [],
   "source": [
    "test.dtypes"
   ]
  },
  {
   "cell_type": "code",
   "execution_count": null,
   "metadata": {},
   "outputs": [],
   "source": [
    "#check the train data\n",
    "train.head()"
   ]
  },
  {
   "cell_type": "code",
   "execution_count": null,
   "metadata": {},
   "outputs": [],
   "source": [
    "#check the test data\n",
    "test.head()"
   ]
  },
  {
   "cell_type": "code",
   "execution_count": null,
   "metadata": {
    "_uuid": "fc6b9c29d0509beaccf9dcf71acedc2747e43e69"
   },
   "outputs": [],
   "source": [
    "def haversine_distance(lat1, long1, lat2, long2):\n",
    "    data = [train, test]\n",
    "    for i in data:\n",
    "        #R = 6371  #radius of earth in kilometers\n",
    "        R = 3959 #radius of earth in miles\n",
    "        phi1 = np.radians(i[lat1])\n",
    "        phi2 = np.radians(i[lat2])\n",
    "    \n",
    "        delta_phi = np.radians(i[lat2]-i[lat1])\n",
    "        delta_lambda = np.radians(i[long2]-i[long1])\n",
    "    \n",
    "        #a = sin²((φB - φA)/2) + cos φA . cos φB . sin²((λB - λA)/2)\n",
    "        a = np.sin(delta_phi / 2.0) ** 2 + np.cos(phi1) * np.cos(phi2) * np.sin(delta_lambda / 2.0) ** 2\n",
    "    \n",
    "        #c = 2 * atan2( √a, √(1−a) )\n",
    "        c = 2 * np.arctan2(np.sqrt(a), np.sqrt(1-a))\n",
    "    \n",
    "        #d = R*c\n",
    "        d = (R * c) #in miles\n",
    "        i['H_Distance'] = d\n",
    "    return d"
   ]
  },
  {
   "cell_type": "code",
   "execution_count": null,
   "metadata": {
    "_kg_hide-output": true,
    "_uuid": "ab1a7ea19b72357dd97b6204db370b897113b62f",
    "scrolled": true
   },
   "outputs": [],
   "source": [
    "haversine_distance('pickup_latitude', 'pickup_longitude', 'dropoff_latitude', 'dropoff_longitude')"
   ]
  },
  {
   "cell_type": "code",
   "execution_count": null,
   "metadata": {
    "_kg_hide-output": true,
    "_uuid": "b94499055bd9f02a3a4945c16f2c002b9dac3569"
   },
   "outputs": [],
   "source": [
    "train['H_Distance'].head(10)"
   ]
  },
  {
   "cell_type": "code",
   "execution_count": null,
   "metadata": {
    "_kg_hide-output": true,
    "_uuid": "5adcaaa0f55358e3d8930b13ec2af64aadc5f7f2"
   },
   "outputs": [],
   "source": [
    "test['H_Distance'].head(10)"
   ]
  },
  {
   "cell_type": "code",
   "execution_count": null,
   "metadata": {
    "_kg_hide-output": true,
    "_uuid": "a67b8e8da0a7edbbdcc82e7cf26ee7f0bda81811"
   },
   "outputs": [],
   "source": [
    "train.head(10)"
   ]
  },
  {
   "cell_type": "code",
   "execution_count": null,
   "metadata": {
    "_kg_hide-output": true,
    "_uuid": "ded4d08d5fe820f26c47e672bee2ce31a7fb3e51"
   },
   "outputs": [],
   "source": [
    "test.tail(10)"
   ]
  },
  {
   "cell_type": "markdown",
   "metadata": {
    "_uuid": "d8760e53bb1a473acad96662d7ea52190d0a820b"
   },
   "source": [
    "Now that we have calculated the distance, we shall create columns for the following - \n",
    "* year\n",
    "* month\n",
    "* date\n",
    "* hour\n",
    "* day of week"
   ]
  },
  {
   "cell_type": "code",
   "execution_count": null,
   "metadata": {
    "_uuid": "c8e12e9422c779600760c4a60561c35df3d6988f"
   },
   "outputs": [],
   "source": [
    "data = [train,test]\n",
    "for i in data:\n",
    "    i['Year'] = i['pickup_datetime'].dt.year\n",
    "    i['Month'] = i['pickup_datetime'].dt.month\n",
    "    i['Date'] = i['pickup_datetime'].dt.day\n",
    "    i['Day of Week'] = i['pickup_datetime'].dt.dayofweek\n",
    "    i['Hour'] = i['pickup_datetime'].dt.hour"
   ]
  },
  {
   "cell_type": "code",
   "execution_count": null,
   "metadata": {
    "_kg_hide-output": true,
    "_uuid": "e7905271ebeb09a5c2b8a44735c9f98f8c4fedf9"
   },
   "outputs": [],
   "source": [
    "train.head()"
   ]
  },
  {
   "cell_type": "code",
   "execution_count": null,
   "metadata": {
    "_kg_hide-output": true,
    "_uuid": "5f61483d575441ca6eba65e9d8b64f7eb85e95dc"
   },
   "outputs": [],
   "source": [
    "test.head()"
   ]
  },
  {
   "cell_type": "markdown",
   "metadata": {
    "_uuid": "9188b90f04e231dcadbf51e8d2e4d3e2a9708bd7"
   },
   "source": [
    "**1. Does the number of passengers affect the fare? **"
   ]
  },
  {
   "cell_type": "code",
   "execution_count": null,
   "metadata": {
    "_kg_hide-output": true,
    "_uuid": "7d3cddcadc4901c966d0ce857b0e76d203513eca"
   },
   "outputs": [],
   "source": [
    "plt.figure(figsize=(15,7))\n",
    "plt.hist(train['passenger_count'], bins=15)\n",
    "plt.xlabel('No. of Passengers')\n",
    "plt.ylabel('Frequency')"
   ]
  },
  {
   "cell_type": "code",
   "execution_count": null,
   "metadata": {
    "_kg_hide-output": true,
    "_uuid": "254d0801e21cd87ec3e5b6a0a09eae9bc0a29f30"
   },
   "outputs": [],
   "source": [
    "plt.figure(figsize=(15,7))\n",
    "plt.scatter(x=train['passenger_count'], y=train['fare_amount'], s=1.5)\n",
    "plt.xlabel('No. of Passengers')\n",
    "plt.ylabel('Fare')"
   ]
  },
  {
   "cell_type": "markdown",
   "metadata": {
    "_uuid": "43649bc6e5b80249a0a8881e6bbc36655b5d659e",
    "collapsed": true
   },
   "source": [
    "From the above 2 graphs we can see that single passengers are the most frequent travellers, and the highest fare also seems to come from cabs which carry just 1 passenger."
   ]
  },
  {
   "cell_type": "markdown",
   "metadata": {
    "_uuid": "a0875cfd7b96684b5fc074f381f5d249f96cbee9"
   },
   "source": [
    "**2. Does the date and time of pickup affect the fare?**"
   ]
  },
  {
   "cell_type": "code",
   "execution_count": null,
   "metadata": {
    "_kg_hide-output": true,
    "_uuid": "9e3678ad8100fc3c98d62db363f904af46f0e9b4"
   },
   "outputs": [],
   "source": [
    "plt.figure(figsize=(15,7))\n",
    "plt.scatter(x=train['Date'], y=train['fare_amount'], s=1.5)\n",
    "plt.xlabel('Date')\n",
    "plt.ylabel('Fare')"
   ]
  },
  {
   "cell_type": "markdown",
   "metadata": {
    "_uuid": "cbece6085a2e2a80c0a5a34c5d44f9ba55535381"
   },
   "source": [
    "The fares throught the month mostly seem uniform, with the maximum fare received on the 12th"
   ]
  },
  {
   "cell_type": "code",
   "execution_count": null,
   "metadata": {
    "_kg_hide-output": true,
    "_uuid": "f6049ebcfaa9942108c0ac2a446b89aba5ab357e"
   },
   "outputs": [],
   "source": [
    "plt.figure(figsize=(15,7))\n",
    "plt.hist(train['Hour'], bins=100)\n",
    "plt.xlabel('Hour')\n",
    "plt.ylabel('Frequency')"
   ]
  },
  {
   "cell_type": "markdown",
   "metadata": {
    "_uuid": "4bf1d9ab30581db3a1099fb122d33465ecdd3be1"
   },
   "source": [
    "Interesting! The time of day definitely plays an important role. The frequency of cab rides seem to be the lowest at 5AM and the highest at 7PM."
   ]
  },
  {
   "cell_type": "code",
   "execution_count": null,
   "metadata": {
    "_kg_hide-output": true,
    "_uuid": "f4a41ab563886cd41aa23ec827d363db5fc680e2"
   },
   "outputs": [],
   "source": [
    "plt.figure(figsize=(15,7))\n",
    "plt.scatter(x=train['Hour'], y=train['fare_amount'], s=1.5)\n",
    "plt.xlabel('Hour')\n",
    "plt.ylabel('Fare')"
   ]
  },
  {
   "cell_type": "markdown",
   "metadata": {
    "_uuid": "bdf4567f89b203bb8463d33707c433c133ef7cf0"
   },
   "source": [
    "The fares, however, seem to be high betweeb 5AM and 10AM, and 2PM to 4PM. Maybe people who live far away prefer to leave earlier to avoid rush hour traffic?  "
   ]
  },
  {
   "cell_type": "markdown",
   "metadata": {
    "_uuid": "5e658212ae69fc66844dd46fa8d07c9fa1bc5dda"
   },
   "source": [
    "**3. Does the day of the week affect the fare?**"
   ]
  },
  {
   "cell_type": "code",
   "execution_count": null,
   "metadata": {
    "_kg_hide-output": true,
    "_uuid": "f222426b10f0a5dc54aefc2425d473b0958795be"
   },
   "outputs": [],
   "source": [
    "plt.figure(figsize=(15,7))\n",
    "plt.hist(train['Day of Week'], bins=100)\n",
    "plt.xlabel('Day of Week')\n",
    "plt.ylabel('Frequency')"
   ]
  },
  {
   "cell_type": "markdown",
   "metadata": {
    "_uuid": "6145ac713d34cd74df6c6be3cf92074970f6dd98"
   },
   "source": [
    "Nah, day of the week doesn't seem to have that much of an influence on the number of cab rides"
   ]
  },
  {
   "cell_type": "code",
   "execution_count": null,
   "metadata": {
    "_kg_hide-output": true,
    "_uuid": "22213c005603604521c33ccecdaf14cf093c1019"
   },
   "outputs": [],
   "source": [
    "plt.figure(figsize=(15,7))\n",
    "plt.scatter(x=train['Day of Week'], y=train['fare_amount'], s=1.5)\n",
    "plt.xlabel('Day of Week')\n",
    "plt.ylabel('Fare')"
   ]
  },
  {
   "cell_type": "markdown",
   "metadata": {
    "_uuid": "2b1cd5a2d6499a8e6c7a19a333536de108e92c83"
   },
   "source": [
    "The highest fares seem to be on a Sunday and Monday, and the lowest on Wednesday and Friday. Maybe people travel far distances on Sunday and Monday (visiting family and returning back home), and hence, the high fares. And guess people just want to stay at home on a Friday after a hectic week at work, or grab a drink from close by. Hmmm.."
   ]
  },
  {
   "cell_type": "markdown",
   "metadata": {
    "_uuid": "3a3c1e5e14376cd6396dfd157f6972c92be06b86"
   },
   "source": [
    "**4. Does the distance affect the fare?**\n",
    "\n",
    "This is a no-brainer. I am confident that the distance would affect the fare a great deal. But I will visualise it.\n",
    "\n",
    "Firstly, let's check the frequency of the distances that we calculated using Haversine formula. I will do so by creating bins (0-10 kms, 10-20 kms, and so on, and check for any outliers)"
   ]
  },
  {
   "cell_type": "code",
   "execution_count": null,
   "metadata": {
    "_kg_hide-output": true,
    "_uuid": "55a54499f053b7d8c7ac6e104e624f724f64a92f"
   },
   "outputs": [],
   "source": [
    "train.sort_values(['H_Distance','fare_amount'], ascending=False)"
   ]
  },
  {
   "cell_type": "code",
   "execution_count": null,
   "metadata": {
    "_uuid": "02239f285c9543f3ce160da197243b8e3033cbda"
   },
   "outputs": [],
   "source": [
    "len(train)"
   ]
  },
  {
   "cell_type": "code",
   "execution_count": null,
   "metadata": {
    "_uuid": "e23def4d62c89c4dc7f83a100d2580fc1628d223"
   },
   "outputs": [],
   "source": [
    "bins_0 = train.loc[(train['H_Distance'] == 0), ['H_Distance']]\n",
    "bins_1 = train.loc[(train['H_Distance'] > 0) & (train['H_Distance'] <= 10),['H_Distance']]\n",
    "bins_2 = train.loc[(train['H_Distance'] > 10) & (train['H_Distance'] <= 50),['H_Distance']]\n",
    "bins_3 = train.loc[(train['H_Distance'] > 50) & (train['H_Distance'] <= 100),['H_Distance']]\n",
    "bins_4 = train.loc[(train['H_Distance'] > 100) & (train['H_Distance'] <= 200),['H_Distance']]\n",
    "bins_5 = train.loc[(train['H_Distance'] > 200) & (train['H_Distance'] <= 300),['H_Distance']]\n",
    "bins_6 = train.loc[(train['H_Distance'] > 300),['H_Distance']]\n",
    "bins_0['bins'] = '0'\n",
    "bins_1['bins'] = '0-10'\n",
    "bins_2['bins'] = '11-50'\n",
    "bins_3['bins'] = '51-100'\n",
    "bins_4['bins'] = '100-200'\n",
    "bins_5['bins'] = '201-300'\n",
    "bins_6['bins'] = '>300'\n",
    "dist_bins =pd.concat([bins_0,bins_1,bins_2,bins_3,bins_4,bins_5,bins_6])\n",
    "#len(dist_bins)\n",
    "dist_bins.columns"
   ]
  },
  {
   "cell_type": "code",
   "execution_count": null,
   "metadata": {
    "_kg_hide-output": true,
    "_uuid": "7fb57ff99cba1e547ca70c5e6b3357dc0e5ab1a5"
   },
   "outputs": [],
   "source": [
    "plt.figure(figsize=(15,7))\n",
    "plt.hist(dist_bins['bins'], bins=75)\n",
    "plt.xlabel('Bins')\n",
    "plt.ylabel('Frequency')"
   ]
  },
  {
   "cell_type": "code",
   "execution_count": null,
   "metadata": {
    "_uuid": "1f2c31d6fbecfcafdb653266e913d5fa97fad4bf"
   },
   "outputs": [],
   "source": [
    "Counter(dist_bins['bins'])"
   ]
  },
  {
   "cell_type": "markdown",
   "metadata": {
    "_uuid": "65e9cafc8ebf855468d0255623ca26d456e9613e"
   },
   "source": [
    "There are values which are greater than 100 kms! In NYC I am not sure why people would take cabs to travel more than a 100 kms. Since the number of bins for 100-200 kms is quite high, I will keep these. These outliers could be because of typos or missing values in the latitude or longitude. Remove fields of the following - \n",
    "1.  Pickup latitude and pickup longitude are 0 but dropoff latitude and longitude are not 0, but the fare is 0\n",
    "2. vice versa of point 1.\n",
    "3. Pickup latitude and pickup longitude are 0 but dropoff latitude and longitude are not 0, but the fare is NOT 0. Here I will have to impute the distance values in both the train and test data."
   ]
  },
  {
   "cell_type": "code",
   "execution_count": null,
   "metadata": {
    "_kg_hide-output": true,
    "_uuid": "23cb8bb4b3642f7293d57b197f1c42529d6fcc46"
   },
   "outputs": [],
   "source": [
    "#pickup latitude and longitude = 0\n",
    "train.loc[((train['pickup_latitude']==0) & (train['pickup_longitude']==0))&((train['dropoff_latitude']!=0) & (train['dropoff_longitude']!=0)) & (train['fare_amount']==0)]"
   ]
  },
  {
   "cell_type": "code",
   "execution_count": null,
   "metadata": {
    "_uuid": "2c2339b8b1cbccf8854913f10adb4ea7128a461f"
   },
   "outputs": [],
   "source": [
    "train = train.drop(train.loc[((train['pickup_latitude']==0) & (train['pickup_longitude']==0))&((train['dropoff_latitude']!=0) & (train['dropoff_longitude']!=0)) & (train['fare_amount']==0)].index, axis=0)"
   ]
  },
  {
   "cell_type": "code",
   "execution_count": null,
   "metadata": {
    "_uuid": "03c18e495827eb0386cce79b65f754280e7345df"
   },
   "outputs": [],
   "source": [
    "#1 row dropped\n",
    "train.shape"
   ]
  },
  {
   "cell_type": "code",
   "execution_count": null,
   "metadata": {
    "_uuid": "5559d93c32d0f65f76cf0c399fa739645d2360be"
   },
   "outputs": [],
   "source": [
    "#Check in test data\n",
    "test.loc[((test['pickup_latitude']==0) & (test['pickup_longitude']==0))&((test['dropoff_latitude']!=0) & (test['dropoff_longitude']!=0))]\n",
    "#No records! PHEW!"
   ]
  },
  {
   "cell_type": "code",
   "execution_count": null,
   "metadata": {
    "_kg_hide-output": true,
    "_uuid": "181041eb8b1bed84235d3d9509ad21a576fbb9b1"
   },
   "outputs": [],
   "source": [
    "#dropoff latitude and longitude = 0\n",
    "train.loc[((train['pickup_latitude']!=0) & (train['pickup_longitude']!=0))&((train['dropoff_latitude']==0) & (train['dropoff_longitude']==0)) & (train['fare_amount']==0)]"
   ]
  },
  {
   "cell_type": "code",
   "execution_count": null,
   "metadata": {
    "_kg_hide-output": false,
    "_uuid": "ad924137b8fc4ab65531242aaf92ffd807bfd777"
   },
   "outputs": [],
   "source": [
    "train = train.drop(train.loc[((train['pickup_latitude']!=0) & (train['pickup_longitude']!=0))&((train['dropoff_latitude']==0) & (train['dropoff_longitude']==0)) & (train['fare_amount']==0)].index, axis=0)"
   ]
  },
  {
   "cell_type": "code",
   "execution_count": null,
   "metadata": {
    "_uuid": "a1d45b47248c8f2b23a15b080daefff1c012adae"
   },
   "outputs": [],
   "source": [
    "#3 rows dropped\n",
    "train.shape"
   ]
  },
  {
   "cell_type": "code",
   "execution_count": null,
   "metadata": {
    "_uuid": "2fb41e06e10e51562e29f10421b619289de548af"
   },
   "outputs": [],
   "source": [
    "#Checking test data\n",
    "#Again no records! AWESOME!\n",
    "test.loc[((test['pickup_latitude']!=0) & (test['pickup_longitude']!=0))&((test['dropoff_latitude']==0) & (test['dropoff_longitude']==0))]"
   ]
  },
  {
   "cell_type": "markdown",
   "metadata": {
    "_uuid": "8b9f2566eba89b32f70704d3ac6ba9a493032c1d"
   },
   "source": [
    "Check the H_Distance fields which are greater than 200 kms cause there is no way that people would travel more than 200 kms at the most in NYC in a CAB!"
   ]
  },
  {
   "cell_type": "code",
   "execution_count": null,
   "metadata": {
    "_kg_hide-output": true,
    "_uuid": "2d595f5a2616a229eaf1e3aef73d4f6d15e049bf"
   },
   "outputs": [],
   "source": [
    "high_distance = train.loc[(train['H_Distance']>200)&(train['fare_amount']!=0)]"
   ]
  },
  {
   "cell_type": "code",
   "execution_count": null,
   "metadata": {
    "_kg_hide-output": true,
    "_uuid": "960d2b012be8ca92efcfda8d8c286802038364d5"
   },
   "outputs": [],
   "source": [
    "high_distance"
   ]
  },
  {
   "cell_type": "markdown",
   "metadata": {
    "_uuid": "aa7776a7074c7f140462e3d3f57afa88441145c2"
   },
   "source": [
    "1938 rows! As you can see from the DF above, the abnormally high distances are due to either the pickup or dropoff co-ordinates being incorrect or 0. However, since all these values have fares, I do not wish to drop them as they contain crucial data. Instead, I will replace the initial distance values with distance values calculated using the fare using the following formula \n",
    "\n",
    "> *distance = (fare_amount - 2.5)/1.56*"
   ]
  },
  {
   "cell_type": "code",
   "execution_count": null,
   "metadata": {
    "_uuid": "232e0e7e4ddf51942828c8002e25f1f7c195d224",
    "scrolled": true
   },
   "outputs": [],
   "source": [
    "high_distance.shape"
   ]
  },
  {
   "cell_type": "code",
   "execution_count": null,
   "metadata": {
    "_uuid": "a9fba56624f23bc5d5db832f9a8ada8719b0a9ea",
    "scrolled": false
   },
   "outputs": [],
   "source": [
    "#high_distance['H_Distance'] = high_distance.apply(lambda row: (row['fare_amount'] - 2.50)/1.56,axis=1)"
   ]
  },
  {
   "cell_type": "code",
   "execution_count": null,
   "metadata": {
    "_kg_hide-output": true,
    "_uuid": "6ff8d33776edec195a11629538810aac3f1e5205"
   },
   "outputs": [],
   "source": [
    "#The distance values have been replaced by the newly calculated ones according to the fare\n",
    "#high_distance"
   ]
  },
  {
   "cell_type": "code",
   "execution_count": null,
   "metadata": {
    "_uuid": "35fdbd6bcdfe1a21126706b64e8fed8cfa11d5d0"
   },
   "outputs": [],
   "source": [
    "#sync the train data with the newly computed distance values from high_distance dataframe\n",
    "#train.update(high_distance)"
   ]
  },
  {
   "cell_type": "code",
   "execution_count": null,
   "metadata": {
    "_uuid": "a81a0a9974a08ad6b98cbb12374ef83d48e6acfb"
   },
   "outputs": [],
   "source": [
    "#train.shape"
   ]
  },
  {
   "cell_type": "markdown",
   "metadata": {
    "_kg_hide-output": true,
    "_uuid": "84c1d8417eaefdd6b815b8e27c72186d326840af"
   },
   "source": [
    "Now we shall check for rows where the distance values are 0"
   ]
  },
  {
   "cell_type": "code",
   "execution_count": null,
   "metadata": {
    "_kg_hide-output": true,
    "_uuid": "3114aa53563edeb91e54e0bcfdcd11a6b5040b4c"
   },
   "outputs": [],
   "source": [
    "train[train['H_Distance']==0]"
   ]
  },
  {
   "attachments": {
    "image.png": {
     "image/png": "[encoded data removed]"
    }
   },
   "cell_type": "markdown",
   "metadata": {
    "_uuid": "2d1d43452b058ab29da9e03bd484276a4dd90e28"
   },
   "source": [
    "We can see a few rows with distance =0. This could be due to 2 reasons \n",
    "1. The cab waited the whole time and the passenger eventually cancelled. *That's why the pickup and drop co-ordinates are the same and maybe, the passenger was charged for the waiting time.*\n",
    "2. The pickup and drop co-ordinates were not entered. In other words, these are **missing values**!\n",
    "\n",
    "28667 rows are too many rows to be deleted. We need to impute these missing values. I have a plan. I intend to impute the missing distance values with the fare and average price per kilometer of NYC cabs.\n",
    "\n",
    "A quick Google search gave me the following prices  - \n",
    "\n",
    "* $$2.5 base-price  +  $1.56/km --> 6AM to 8PM Mon-Fri\n",
    "\n",
    "* $$3.0 base-price  +  $1.56/km --> 8PM to 6AM Mon-Fri and Sat&Sun\n",
    "\n",
    "However, before we proceed with the above steps, lets check for the following scenarios to impute the missing fare amount and the H_Distance in train data.\n",
    "\n",
    "![image.png](attachment:image.png)\n"
   ]
  },
  {
   "cell_type": "markdown",
   "metadata": {
    "_uuid": "0f717118016e86b7472853ca4c4a3462c164e62b"
   },
   "source": [
    "**SCENARIO 1**\n",
    "\n",
    "Fare and Distance are both 0. According to the table above, we shall delete them as they do not provide us any info with regards to the data."
   ]
  },
  {
   "cell_type": "code",
   "execution_count": null,
   "metadata": {
    "_kg_hide-output": true,
    "_uuid": "5fd60a71585ad265e8d0b3115115f055e3cbef83"
   },
   "outputs": [],
   "source": [
    "train[(train['H_Distance']==0)&(train['fare_amount']==0)]"
   ]
  },
  {
   "cell_type": "markdown",
   "metadata": {
    "_uuid": "94538ad0a8a05ef169910594fdd2a958f67b354c"
   },
   "source": [
    "There are 4 rows. There 4 rows do not help us in anyway as we do not know either the distance or the fare to impute the missing values. So we shall drop them "
   ]
  },
  {
   "cell_type": "code",
   "execution_count": null,
   "metadata": {
    "_uuid": "9d3635c8369e1d20788d7c1028df9702fc482efc"
   },
   "outputs": [],
   "source": [
    "train = train.drop(train[(train['H_Distance']==0)&(train['fare_amount']==0)].index, axis = 0)"
   ]
  },
  {
   "cell_type": "code",
   "execution_count": null,
   "metadata": {
    "_uuid": "b851837ec1b722250c35b0709d310e9fb78e1d37"
   },
   "outputs": [],
   "source": [
    "#4 rows dropped\n",
    "train[(train['H_Distance']==0)].shape"
   ]
  },
  {
   "cell_type": "markdown",
   "metadata": {
    "_uuid": "b4a3a0149c46d7f7a7f8e275d2b002ebcec0e512"
   },
   "source": [
    "**SCENARIO 2**\n",
    "\n",
    "Fare is not 0 and is less than the base amount, but Distance is 0.\n",
    "\n",
    "Delete these rows as the minimum is $2.50, and these fares are incorrect values."
   ]
  },
  {
   "cell_type": "code",
   "execution_count": null,
   "metadata": {
    "_kg_hide-output": true,
    "_uuid": "f5ac4abae042d2f8febed1c238897651c7baf559"
   },
   "outputs": [],
   "source": [
    "#Between 8AM and 8PM on Mon-Fri\n",
    "rush_hour = train.loc[(((train['Hour']>=8)&(train['Hour']<=20)) & ((train['Day of Week']>=1) & (train['Day of Week']<=5)) & (train['H_Distance']==0) & (train['fare_amount'] < 3.25))]\n",
    "rush_hour"
   ]
  },
  {
   "cell_type": "code",
   "execution_count": null,
   "metadata": {
    "_uuid": "a4980a746e4c2feb817dcea0259cd5e0ba6fb92d"
   },
   "outputs": [],
   "source": [
    "train=train.drop(rush_hour.index, axis=0)"
   ]
  },
  {
   "cell_type": "code",
   "execution_count": null,
   "metadata": {
    "_uuid": "34b6362db50ba18a5aaeffaeab5651920bb20b4e"
   },
   "outputs": [],
   "source": [
    "train.shape"
   ]
  },
  {
   "cell_type": "code",
   "execution_count": null,
   "metadata": {
    "_kg_hide-output": true,
    "_uuid": "ac4877f7da0861042538a3d2aacf3f2c2b3f68c7"
   },
   "outputs": [],
   "source": [
    "#Between 8PM and 6AM on Mon-Fri\n",
    "non_rush_hour = train.loc[(((train['Hour']<8)|(train['Hour']>20)) & ((train['Day of Week']>=1)&(train['Day of Week']<=5)) & (train['H_Distance']==0) & (train['fare_amount'] < 3.75))]\n",
    "#print(Counter(non_work_hours['Hour']))\n",
    "#print(Counter(non_work_hours['Day of Week']))\n",
    "non_rush_hour\n",
    "#keep these. Since the fare_amount is not <2.5 (which is the base fare), these values seem legit to me."
   ]
  },
  {
   "cell_type": "code",
   "execution_count": null,
   "metadata": {
    "_kg_hide-output": true,
    "_uuid": "e6495b9b1c420b6334f00136803c214522d10782"
   },
   "outputs": [],
   "source": [
    "#Saturday and Sunday all hours\n",
    "weekends = train.loc[((train['Day of Week']==0) | (train['Day of Week']==6)) & (train['H_Distance']==0) & (train['fare_amount'] < 3.5)]\n",
    "weekends\n",
    "#Counter(weekends['Day of Week'])\n",
    "#keep these too. Since the fare_amount is not <2.5, these values seem legit to me."
   ]
  },
  {
   "cell_type": "markdown",
   "metadata": {
    "_uuid": "a90f211c78cd0f3fa24882f0e20b19f95a9697e9"
   },
   "source": [
    "From scenario 2, I can understand that the distance is 0, but the fare is all the minimum fare of $2.5. This could be because the passenger booked the cab but ended up cancelling to pay the base fare (not sure how this works in NYC, but I'm assuming that's how it is)"
   ]
  },
  {
   "cell_type": "markdown",
   "metadata": {
    "_uuid": "eb2996375dfeae515731928bb21263b33939db50"
   },
   "source": [
    "**SCENARIO 3**\n",
    "\n",
    "Fare is 0, but Distance is not 0. These values need to be imputed.\n",
    "\n",
    "I can calculate the fare as I have the distance. I shall use the following formula\n",
    "> *fare = 2.5 + 1.56(H_Distance)*"
   ]
  },
  {
   "cell_type": "code",
   "execution_count": null,
   "metadata": {
    "_kg_hide-output": true,
    "_uuid": "ba42a1d0783f0289f8a4ed3a648c5030fa8612c6"
   },
   "outputs": [],
   "source": [
    "train.loc[(train['H_Distance']!=0) & (train['fare_amount']==0)]"
   ]
  },
  {
   "cell_type": "code",
   "execution_count": null,
   "metadata": {
    "_uuid": "5e73dfe64e8bea18ef3c04c8205819cdd129e8cd"
   },
   "outputs": [],
   "source": [
    "scenario_3 = train.loc[(train['H_Distance']!=0) & (train['fare_amount']==0)]"
   ]
  },
  {
   "cell_type": "code",
   "execution_count": null,
   "metadata": {
    "_uuid": "5a0ed3d7e5252260cf37186a964941ab33e679fb"
   },
   "outputs": [],
   "source": [
    "len(scenario_3)"
   ]
  },
  {
   "cell_type": "code",
   "execution_count": null,
   "metadata": {
    "_kg_hide-output": true,
    "_uuid": "ecf59475586a57c159f22b730eb136aeb368dd3f"
   },
   "outputs": [],
   "source": [
    "#We do not have any distance values that are outliers.\n",
    "scenario_3.sort_values('H_Distance', ascending=False)"
   ]
  },
  {
   "cell_type": "code",
   "execution_count": null,
   "metadata": {
    "_uuid": "9cc54fbebcbe154f41944261bc59bdd6daac635a"
   },
   "outputs": [],
   "source": [
    "#scenario_3['fare_amount'] = scenario_3.apply(lambda row: ((row['H_Distance'] * 1.80) + 3.25), axis=1)"
   ]
  },
  {
   "cell_type": "code",
   "execution_count": null,
   "metadata": {
    "_kg_hide-output": true,
    "_uuid": "ffcf0061c1a3675289778afda1694bfde3428a01"
   },
   "outputs": [],
   "source": [
    "scenario_3['fare_amount']"
   ]
  },
  {
   "cell_type": "code",
   "execution_count": null,
   "metadata": {
    "_uuid": "7da7adf49aaf25c5b3a9cf408669dce9af153436"
   },
   "outputs": [],
   "source": [
    "train.update(scenario_3)"
   ]
  },
  {
   "cell_type": "code",
   "execution_count": null,
   "metadata": {
    "_uuid": "d6f9efd17d0a89b0f2d8935be388c5b9e2cedc95"
   },
   "outputs": [],
   "source": [
    "train.shape"
   ]
  },
  {
   "cell_type": "markdown",
   "metadata": {
    "_uuid": "a85b46c066f8ba14d5c3f9ac4566a342bd139850",
    "collapsed": true
   },
   "source": [
    "**SCENARIO 4**\n",
    "\n",
    "Fare is  not 0, but Distance is 0. These values need to be imputed."
   ]
  },
  {
   "cell_type": "code",
   "execution_count": null,
   "metadata": {
    "_kg_hide-output": true,
    "_uuid": "6f56a0dac462a73c71f71483d618a26dc476aa71"
   },
   "outputs": [],
   "source": [
    "train.loc[(train['H_Distance']==0) & (train['fare_amount']!=0)]"
   ]
  },
  {
   "cell_type": "code",
   "execution_count": null,
   "metadata": {
    "_uuid": "904283007ddf5c7630d78c6bc5fa4891bed354db"
   },
   "outputs": [],
   "source": [
    "scenario_4 = train.loc[(train['H_Distance']==0) & (train['fare_amount']!=0)]"
   ]
  },
  {
   "cell_type": "code",
   "execution_count": null,
   "metadata": {
    "_uuid": "7fedca0b5fd8e63a1ef4ffe7fc66d212cd20575a"
   },
   "outputs": [],
   "source": [
    "len(scenario_4)"
   ]
  },
  {
   "cell_type": "code",
   "execution_count": null,
   "metadata": {
    "_kg_hide-output": true,
    "_uuid": "9d84dc8feddb375e454f0a20aec30e81c03f0b3e"
   },
   "outputs": [],
   "source": [
    "#Using our prior knowledge about the base price during weekdays and weekends for the cabs.\n",
    "#I do not want to impute these 1502 values as they are legible ones.\n",
    "scenario_4.loc[(scenario_4['fare_amount']<=3.75)&(scenario_4['H_Distance']==0)]"
   ]
  },
  {
   "cell_type": "code",
   "execution_count": null,
   "metadata": {
    "_kg_hide-output": true,
    "_uuid": "c5eb22491c5d49f0b11dfbccd506780343696351"
   },
   "outputs": [],
   "source": [
    "scenario_4.loc[(scenario_4['fare_amount']>3.75)&(scenario_4['H_Distance']==0)]"
   ]
  },
  {
   "cell_type": "markdown",
   "metadata": {
    "_uuid": "44dac5f0daeeb51d19439c8758f1717528325c70"
   },
   "source": [
    "These 27159 rows need to be imputed using the following formula - \n",
    "> *distance = (fare_amount - 2.5)/1.56*"
   ]
  },
  {
   "cell_type": "code",
   "execution_count": null,
   "metadata": {
    "_uuid": "b5029a205fefa2836e7287ad730dc5859f1aabfd"
   },
   "outputs": [],
   "source": [
    "scenario_4_sub = scenario_4.loc[(scenario_4['fare_amount']>3.75)&(scenario_4['H_Distance']==0)]"
   ]
  },
  {
   "cell_type": "code",
   "execution_count": null,
   "metadata": {
    "_uuid": "edc82fce48d490a0e1d49cf94129b45f3aa180ac"
   },
   "outputs": [],
   "source": [
    "len(scenario_4_sub)"
   ]
  },
  {
   "cell_type": "code",
   "execution_count": null,
   "metadata": {
    "_uuid": "d9a0a9c50016becb2438372c60bf71480ff59ef5"
   },
   "outputs": [],
   "source": [
    "scenario_4_sub['H_Distance'] = scenario_4_sub.apply(\n",
    "lambda row: ((row['fare_amount']-3.25)/2.25), axis=1\n",
    ")\n",
    "\n",
    "#scenario_3['fare_amount'] = scenario_3.apply(\n",
    "#    lambda row: ((row['H_Distance'] * 1.56) + 2.50), axis=1\n",
    "#)"
   ]
  },
  {
   "cell_type": "code",
   "execution_count": null,
   "metadata": {
    "_uuid": "cc7238e493ffca27b3fdad44d09bdeb1d6313018"
   },
   "outputs": [],
   "source": [
    "train.update(scenario_4_sub)"
   ]
  },
  {
   "cell_type": "code",
   "execution_count": null,
   "metadata": {
    "_uuid": "23f1ee623dfb61f9323ef8940ea0c3b9c02148c6"
   },
   "outputs": [],
   "source": [
    "train.shape"
   ]
  },
  {
   "cell_type": "code",
   "execution_count": null,
   "metadata": {},
   "outputs": [],
   "source": [
    "train = train.apply (pd.to_numeric, errors='coerce')\n",
    "train = train.dropna()\n",
    "test = test.apply (pd.to_numeric, errors='coerce')\n",
    "test = test.dropna()"
   ]
  },
  {
   "cell_type": "markdown",
   "metadata": {
    "_uuid": "be7c6322bca6e10277dd88e4d24dd27ce90511e4"
   },
   "source": [
    "**PART 2 --> MODELLING AND PREDICTION**\n",
    "\n",
    "FINALLY! Data cleansing is done! Now to split the x and y variables and proceed to modelling. I shall use the random forest method for prediction"
   ]
  },
  {
   "cell_type": "code",
   "execution_count": null,
   "metadata": {
    "_uuid": "2e0aec3259b01ba1b66397cb0c9ab9f66442829d"
   },
   "outputs": [],
   "source": [
    "train.columns"
   ]
  },
  {
   "cell_type": "code",
   "execution_count": null,
   "metadata": {
    "_uuid": "478a5ceb1fd6a3b4e70e72aa75b0a539738cc5b4"
   },
   "outputs": [],
   "source": [
    "test.columns"
   ]
  },
  {
   "cell_type": "code",
   "execution_count": null,
   "metadata": {
    "_uuid": "7cb7241f509d711cfe864d3e12eaa0e5d0187361"
   },
   "outputs": [],
   "source": [
    "#not including the pickup_datetime columns as datetime columns cannot be directly used while modelling. Features need to extracted from the \n",
    "#timestamp fields which will later be used as features for modelling.\n",
    "train = train.drop(['key','pickup_datetime'], axis = 1)\n",
    "test = test.drop(['key','pickup_datetime'], axis = 1)"
   ]
  },
  {
   "cell_type": "code",
   "execution_count": null,
   "metadata": {
    "_uuid": "33cc823200281fda99077f6dea76ff50002f0b8d"
   },
   "outputs": [],
   "source": [
    "train.columns"
   ]
  },
  {
   "cell_type": "code",
   "execution_count": null,
   "metadata": {
    "_uuid": "8fd8d78d9886b8491dfc5afdf29e02873a9a78e3"
   },
   "outputs": [],
   "source": [
    "test.columns"
   ]
  },
  {
   "cell_type": "code",
   "execution_count": null,
   "metadata": {
    "_uuid": "df4852ffce7bb20d405bddad37382809805158c6"
   },
   "outputs": [],
   "source": [
    "x_train = train.iloc[:,train.columns!='fare_amount']\n",
    "#features = ['Day of Week','Hour', 'H_Distance', 'passenger_count']\n",
    "#x_train = train[features].values\n",
    "y_train = train['fare_amount'].values\n",
    "#del test['fare_amount']\n",
    "x_test = test"
   ]
  },
  {
   "cell_type": "code",
   "execution_count": null,
   "metadata": {},
   "outputs": [],
   "source": [
    "del test['fare_amount']"
   ]
  },
  {
   "cell_type": "code",
   "execution_count": null,
   "metadata": {
    "_uuid": "4211b47f12eb8989e928067f3c235d3b2ecf03b9"
   },
   "outputs": [],
   "source": [
    "x_train.shape"
   ]
  },
  {
   "cell_type": "code",
   "execution_count": null,
   "metadata": {
    "_uuid": "0d1f5cc8488040a54b41cd69c6cdb8e9880cb8b7"
   },
   "outputs": [],
   "source": [
    "y_train.shape"
   ]
  },
  {
   "cell_type": "code",
   "execution_count": null,
   "metadata": {
    "scrolled": true
   },
   "outputs": [],
   "source": [
    "x_test.columns"
   ]
  },
  {
   "cell_type": "code",
   "execution_count": null,
   "metadata": {
    "_uuid": "a22e0a07c481e93a1b2e08be9cebdf2278c1d79b"
   },
   "outputs": [],
   "source": [
    "test.head()"
   ]
  },
  {
   "cell_type": "code",
   "execution_count": null,
   "metadata": {
    "_uuid": "12495fa48d1ce688edd449de60de089d263192c5",
    "scrolled": true
   },
   "outputs": [],
   "source": [
    "x_test.columns"
   ]
  },
  {
   "cell_type": "code",
   "execution_count": null,
   "metadata": {
    "_uuid": "73bb1f0b67e945413a261ffefcb25a810620136b",
    "scrolled": true
   },
   "outputs": [],
   "source": [
    "from sklearn.ensemble import RandomForestRegressor\n",
    "rf = RandomForestRegressor()\n",
    "rf.fit(x_train, y_train)\n",
    "rf_predict = rf.predict(x_test)\n",
    "print(rf_predict)"
   ]
  },
  {
   "cell_type": "code",
   "execution_count": null,
   "metadata": {},
   "outputs": [],
   "source": [
    "#pickle.dump(rf, open('model.pkl','wb'))\n",
    "import joblib\n",
    "import gzip\n",
    "#with gzip.GzipFile(filename + '.gz', 'wb', compresslevel=3) as fo:  \n",
    "joblib.dump(rf, gzip.GzipFile('model' + '.lzma', 'wb', compresslevel=3))\n",
    "#with gzip.GzipFile(filename + '.gz', 'rb') as fo:  \n",
    "#oblib.load(fo)"
   ]
  },
  {
   "cell_type": "code",
   "execution_count": null,
   "metadata": {},
   "outputs": [],
   "source": [
    "#model = pickle.load(open('model.pklz','rb'))\n",
    "#model = joblib.load(gzip.GzipFile('model_1' + '.lzma', 'rb'))"
   ]
  },
  {
   "cell_type": "code",
   "execution_count": null,
   "metadata": {},
   "outputs": [],
   "source": [
    "#Xnew = [[1,41.8826,-87.6226,41.8406176,-87.6159749,3.9,2019,11,18,1,18]]"
   ]
  },
  {
   "cell_type": "code",
   "execution_count": null,
   "metadata": {},
   "outputs": [],
   "source": [
    "#ynew = model.predict(Xnew)"
   ]
  },
  {
   "cell_type": "code",
   "execution_count": null,
   "metadata": {},
   "outputs": [],
   "source": [
    "#ynew"
   ]
  },
  {
   "cell_type": "code",
   "execution_count": null,
   "metadata": {
    "_kg_hide-output": true,
    "_uuid": "c69944fdd8171dad17e009ee71d7a4cdea08f4b2"
   },
   "outputs": [],
   "source": [
    "#submission = pd.read_csv('sample_submission.csv')\n",
    "#submission['fare_amount'] = rf_predict\n",
    "#submission.to_csv('submission_1.csv', index=False)\n",
    "#submission.head(20)"
   ]
  },
  {
   "cell_type": "code",
   "execution_count": null,
   "metadata": {},
   "outputs": [],
   "source": []
  }
 ],
 "metadata": {
  "kernelspec": {
   "display_name": "Python 3",
   "language": "python",
   "name": "python3"
  },
  "language_info": {
   "codemirror_mode": {
    "name": "ipython",
    "version": 3
   },
   "file_extension": ".py",
   "mimetype": "text/x-python",
   "name": "python",
   "nbconvert_exporter": "python",
   "pygments_lexer": "ipython3",
   "version": "3.7.4"
  }
 },
 "nbformat": 4,
 "nbformat_minor": 1
}
